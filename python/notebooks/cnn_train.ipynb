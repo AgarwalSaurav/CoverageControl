{
 "cells": [
  {
   "cell_type": "code",
   "execution_count": 1,
   "id": "d87b505f",
   "metadata": {},
   "outputs": [],
   "source": [
    "%load_ext autoreload"
   ]
  },
  {
   "cell_type": "code",
   "execution_count": 2,
   "id": "f953e556",
   "metadata": {},
   "outputs": [],
   "source": [
    "%autoreload 2"
   ]
  },
  {
   "cell_type": "code",
   "execution_count": 3,
   "id": "caaeb571",
   "metadata": {},
   "outputs": [],
   "source": [
    "import os\n",
    "import yaml\n",
    "import torch"
   ]
  },
  {
   "cell_type": "code",
   "execution_count": 4,
   "id": "59449bc2",
   "metadata": {},
   "outputs": [],
   "source": [
    "import dataset.data_loader_utils as dl_utils\n",
    "from dataset.data_loaders import LocalMapCNNDataset as CNNloader"
   ]
  },
  {
   "cell_type": "code",
   "execution_count": 5,
   "id": "154e50e2",
   "metadata": {},
   "outputs": [],
   "source": [
    "config = dl_utils.LoadYaml('/root/CoverageControl_ws/data/pure_coverage/learning_params.yaml')"
   ]
  },
  {
   "cell_type": "code",
   "execution_count": 6,
   "id": "8e8487ae",
   "metadata": {},
   "outputs": [],
   "source": [
    "config_cnn = config['CNN']"
   ]
  },
  {
   "cell_type": "code",
   "execution_count": 7,
   "id": "56f251a4",
   "metadata": {},
   "outputs": [
    {
     "name": "stdout",
     "output_type": "stream",
     "text": [
      "{'pDataDir': '/root/CoverageControl_ws/data/cnn/', 'pEnvironmentConfig': './env_params_large.yaml', 'pTorchVisionTransformJIT': './TorchVisionResize_32.pt', 'pNumDataset': 100000, 'pEveryNumSteps': 5, 'pConvergedDataRatio': 0.0, 'pTriggerPostProcessing': 2000, 'pCNNMapSize': 32, 'pEdgeWeights': 0, 'pSaveAsSparseQ': True, 'pNormalizeQ': True, 'DataSetSplit': {'pTrainRatio': 0.7, 'pValRatio': 0.2, 'pTestRatio': 0.1}}\n"
     ]
    }
   ],
   "source": [
    "data_config = dl_utils.LoadYaml('/root/CoverageControl_ws/data/cnn/data_params.yaml')\n",
    "print(data_config)"
   ]
  },
  {
   "cell_type": "code",
   "execution_count": 8,
   "id": "3bae2714",
   "metadata": {},
   "outputs": [
    {
     "name": "stderr",
     "output_type": "stream",
     "text": [
      "/root/venv/lib/python3.10/site-packages/torch/serialization.py:799: UserWarning: 'torch.load' received a zip file that looks like a TorchScript archive dispatching to 'torch.jit.load' (call 'torch.jit.load' directly to silence this warning)\n",
      "  warnings.warn(\"'torch.load' received a zip file that looks like a TorchScript archive\"\n"
     ]
    }
   ],
   "source": [
    "cnn_data_loader = CNNloader(data_config['pDataDir'], \"/data/\", True, 7)"
   ]
  },
  {
   "cell_type": "code",
   "execution_count": 9,
   "id": "2c4ec6fa",
   "metadata": {},
   "outputs": [
    {
     "data": {
      "text/plain": [
       "5000000"
      ]
     },
     "execution_count": 9,
     "metadata": {},
     "output_type": "execute_result"
    }
   ],
   "source": [
    "cnn_data_loader.dataset_size"
   ]
  },
  {
   "cell_type": "code",
   "execution_count": 19,
   "id": "e2bdc77f",
   "metadata": {},
   "outputs": [
    {
     "data": {
      "text/plain": [
       "torch.Size([50000, 7])"
      ]
     },
     "execution_count": 19,
     "metadata": {},
     "output_type": "execute_result"
    }
   ],
   "source": [
    "mini_batch = cnn_data_loader.maps[0:50000]\n",
    "targets = cnn_data_loader.targets[0:50000]\n",
    "targets.shape"
   ]
  },
  {
   "cell_type": "code",
   "execution_count": 11,
   "id": "4af261df",
   "metadata": {},
   "outputs": [],
   "source": [
    "from models.cnn import CNN"
   ]
  },
  {
   "cell_type": "code",
   "execution_count": 12,
   "id": "f692a230",
   "metadata": {},
   "outputs": [],
   "source": [
    "cnn = CNN(config_cnn)"
   ]
  },
  {
   "cell_type": "code",
   "execution_count": 20,
   "id": "88a1b1c1",
   "metadata": {},
   "outputs": [
    {
     "name": "stdout",
     "output_type": "stream",
     "text": [
      "torch.Size([50000, 64, 22, 22])\n",
      "torch.Size([50000, 30976])\n"
     ]
    }
   ],
   "source": [
    "pred = cnn.forward(mini_batch)"
   ]
  },
  {
   "cell_type": "code",
   "execution_count": 21,
   "id": "6859f7ab",
   "metadata": {},
   "outputs": [
    {
     "name": "stdout",
     "output_type": "stream",
     "text": [
      "tensor(0.0054, grad_fn=<MseLossBackward0>)\n"
     ]
    }
   ],
   "source": [
    "loss_fn = torch.nn.MSELoss()\n",
    "loss = loss_fn(pred, targets)\n",
    "print(loss)"
   ]
  },
  {
   "cell_type": "code",
   "execution_count": 17,
   "id": "2ca78c21",
   "metadata": {},
   "outputs": [
    {
     "data": {
      "text/plain": [
       "torch.Size([1000, 4, 32, 32])"
      ]
     },
     "execution_count": 17,
     "metadata": {},
     "output_type": "execute_result"
    }
   ],
   "source": [
    "mini_batch.shape"
   ]
  },
  {
   "cell_type": "code",
   "execution_count": null,
   "id": "f025dc6a",
   "metadata": {},
   "outputs": [],
   "source": [
    "config_cnn"
   ]
  },
  {
   "cell_type": "code",
   "execution_count": null,
   "id": "b657ffa3",
   "metadata": {},
   "outputs": [],
   "source": [
    "print(cnn)"
   ]
  },
  {
   "cell_type": "code",
   "execution_count": null,
   "id": "03fc57cc",
   "metadata": {},
   "outputs": [],
   "source": [
    "new_state_dict = cnn.state_dict()"
   ]
  },
  {
   "cell_type": "code",
   "execution_count": null,
   "id": "809271e2",
   "metadata": {},
   "outputs": [],
   "source": [
    "python_dict = list(new_state_dict.keys())"
   ]
  },
  {
   "cell_type": "code",
   "execution_count": null,
   "id": "8244e1a6",
   "metadata": {},
   "outputs": [],
   "source": [
    "cpp_dict =['cnn_backbone.conv0.weight', 'cnn_backbone.conv0.bias', 'cnn_backbone.batch_norm0.weight', 'cnn_backbone.batch_norm0.bias', 'cnn_backbone.batch_norm0.running_mean', 'cnn_backbone.batch_norm0.running_var', 'cnn_backbone.batch_norm0.num_batches_tracked', 'cnn_backbone.conv1.weight', 'cnn_backbone.conv1.bias', 'cnn_backbone.batch_norm1.weight', 'cnn_backbone.batch_norm1.bias', 'cnn_backbone.batch_norm1.running_mean', 'cnn_backbone.batch_norm1.running_var', 'cnn_backbone.batch_norm1.num_batches_tracked', 'cnn_backbone.conv2.weight', 'cnn_backbone.conv2.bias', 'cnn_backbone.batch_norm2.weight', 'cnn_backbone.batch_norm2.bias', 'cnn_backbone.batch_norm2.running_mean', 'cnn_backbone.batch_norm2.running_var', 'cnn_backbone.batch_norm2.num_batches_tracked', 'cnn_backbone.conv3.weight', 'cnn_backbone.conv3.bias', 'cnn_backbone.batch_norm3.weight', 'cnn_backbone.batch_norm3.bias', 'cnn_backbone.batch_norm3.running_mean', 'cnn_backbone.batch_norm3.running_var', 'cnn_backbone.batch_norm3.num_batches_tracked', 'cnn_backbone.conv4.weight', 'cnn_backbone.conv4.bias', 'cnn_backbone.batch_norm4.weight', 'cnn_backbone.batch_norm4.bias', 'cnn_backbone.batch_norm4.running_mean', 'cnn_backbone.batch_norm4.running_var', 'cnn_backbone.batch_norm4.num_batches_tracked', 'cnn_backbone.linear_1.weight', 'cnn_backbone.linear_1.bias', 'cnn_backbone.linear_2.weight', 'cnn_backbone.linear_2.bias', 'cnn_backbone.linear_3.weight', 'cnn_backbone.linear_3.bias', 'linear.weight', 'linear.bias']\n"
   ]
  },
  {
   "cell_type": "code",
   "execution_count": null,
   "id": "48aeee39",
   "metadata": {},
   "outputs": [],
   "source": [
    "idx=0\n",
    "cnn.cnn_backbone._modules[f'conv{idx}']"
   ]
  },
  {
   "cell_type": "code",
   "execution_count": null,
   "id": "e4356b0f",
   "metadata": {},
   "outputs": [],
   "source": [
    "python_dict"
   ]
  },
  {
   "cell_type": "code",
   "execution_count": null,
   "id": "8b0cc1ef",
   "metadata": {},
   "outputs": [],
   "source": [
    "cpp_dict==cpp_dict"
   ]
  },
  {
   "cell_type": "code",
   "execution_count": 18,
   "id": "9260a411",
   "metadata": {},
   "outputs": [],
   "source": [
    "cnn.LoadModelCPP('/root/CoverageControl_ws/data/cnn/data/model.pt')"
   ]
  },
  {
   "cell_type": "code",
   "execution_count": null,
   "id": "777122fa",
   "metadata": {},
   "outputs": [],
   "source": []
  }
 ],
 "metadata": {
  "kernelspec": {
   "display_name": "Python 3 (ipykernel)",
   "language": "python",
   "name": "python3"
  },
  "language_info": {
   "codemirror_mode": {
    "name": "ipython",
    "version": 3
   },
   "file_extension": ".py",
   "mimetype": "text/x-python",
   "name": "python",
   "nbconvert_exporter": "python",
   "pygments_lexer": "ipython3",
   "version": "3.10.6"
  }
 },
 "nbformat": 4,
 "nbformat_minor": 5
}
